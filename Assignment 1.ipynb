{
 "cells": [
  {
   "cell_type": "markdown",
   "id": "6fb616ac-7ddc-4a55-9968-d5599dd4a08c",
   "metadata": {},
   "source": [
    "## ASSIGNMENT 1"
   ]
  },
  {
   "cell_type": "markdown",
   "id": "258ba0a1-294f-46dd-975b-b51c572dea51",
   "metadata": {},
   "source": [
    "1. 2024/DSC/0091/SS\n",
    "2. 2024/DSC/0010/SS\n",
    "3. 2024/DSC/0014/SS\n",
    "4. 2024/DSC/0090/SS\n",
    "5. 2024/DSC/0064/SS\n",
    "6. 2024/DSC/007/SS\n",
    "7. 2024/DSC/0056/SS"
   ]
  },
  {
   "cell_type": "code",
   "execution_count": 1,
   "id": "11b9c7ce-54bb-4c41-a5b5-993d7a30baf0",
   "metadata": {},
   "outputs": [],
   "source": [
    "import numpy as np"
   ]
  },
  {
   "cell_type": "code",
   "execution_count": 2,
   "id": "59b7392f-7e69-4434-9669-a3ded9f63274",
   "metadata": {},
   "outputs": [
    {
     "name": "stdout",
     "output_type": "stream",
     "text": [
      "[[ 2  2  3]\n",
      " [-2  7  4]\n",
      " [-3 -3 -4]\n",
      " [-8  2  3]]\n"
     ]
    }
   ],
   "source": [
    "A = np.array([[2,2,3],[-2,7,4],[-3,-3,-4],[-8,2,3]])\n",
    "print(A)"
   ]
  },
  {
   "cell_type": "markdown",
   "id": "1df53880-ac3c-45c6-911b-09b474bf939e",
   "metadata": {},
   "source": [
    "##### no 1"
   ]
  },
  {
   "cell_type": "markdown",
   "id": "0923db14-3407-4f44-9be6-b63e89c57b15",
   "metadata": {},
   "source": [
    "#### Part i)"
   ]
  },
  {
   "cell_type": "code",
   "execution_count": 3,
   "id": "09c9192f-c985-446d-b04f-87509c897f29",
   "metadata": {},
   "outputs": [
    {
     "name": "stdout",
     "output_type": "stream",
     "text": [
      "[[ 2  2  3  1]\n",
      " [-2  7  4  1]\n",
      " [-3 -3 -4  1]\n",
      " [-8  2  3  1]]\n"
     ]
    }
   ],
   "source": [
    "#A = np.array([[2,2,3],[-2,7,4],[-3,-3,-4],[-8,2,3]])\n",
    "a = np.array([[1],[1],[1],[1]])\n",
    "Aa = np.hstack((A, a))\n",
    "print(Aa)#Part i) Adding a new colum"
   ]
  },
  {
   "cell_type": "code",
   "execution_count": 4,
   "id": "cff42d88-ef16-4b44-a386-62e1b5618ba0",
   "metadata": {},
   "outputs": [
    {
     "name": "stdout",
     "output_type": "stream",
     "text": [
      "-299.99999999999994\n"
     ]
    }
   ],
   "source": [
    "det = np.linalg.det(Aa)\n",
    "print(det) "
   ]
  },
  {
   "cell_type": "markdown",
   "id": "205f5823-6d75-453e-aa20-54247b5e7733",
   "metadata": {},
   "source": [
    "#### Part ii)"
   ]
  },
  {
   "cell_type": "code",
   "execution_count": 5,
   "id": "196ce12e-ac12-4b92-b01f-c00b29586336",
   "metadata": {},
   "outputs": [
    {
     "name": "stdout",
     "output_type": "stream",
     "text": [
      "[[ 2  2  3]\n",
      " [-2  7  4]\n",
      " [-3 -3 -4]]\n"
     ]
    }
   ],
   "source": [
    "A_r = np.delete(A, 3, axis=0)\n",
    "print(A_r) # part ii) deleting the row"
   ]
  },
  {
   "cell_type": "code",
   "execution_count": 6,
   "id": "0a383e46-7e5c-44bb-b5f1-cc189b90a090",
   "metadata": {},
   "outputs": [
    {
     "name": "stdout",
     "output_type": "stream",
     "text": [
      "invertable\n"
     ]
    }
   ],
   "source": [
    "if det!= 0:\n",
    "    print('invertable')\n",
    "else:\n",
    "    print('not invertable')"
   ]
  },
  {
   "cell_type": "code",
   "execution_count": 7,
   "id": "3d17148e-c620-4caf-a51b-6e4c9e0eb4e1",
   "metadata": {},
   "outputs": [
    {
     "name": "stdout",
     "output_type": "stream",
     "text": [
      "[[ 2 -2 -3 -8]\n",
      " [ 2  7 -3  2]\n",
      " [ 3  4 -4  3]]\n"
     ]
    }
   ],
   "source": [
    "A = np.array([[2,2,3],[-2,7,4],[-3,-3,-4],[-8,2,3]])\n",
    "A_T= np.transpose(A)\n",
    "print(A_T)"
   ]
  },
  {
   "cell_type": "code",
   "execution_count": 8,
   "id": "8429de96-fe6a-4740-be7c-fb76ed14777a",
   "metadata": {},
   "outputs": [
    {
     "data": {
      "text/plain": [
       "array([[ 17,  22, -24,  -3],\n",
       "       [ 22,  69, -31,  42],\n",
       "       [-24, -31,  34,   6],\n",
       "       [ -3,  42,   6,  77]])"
      ]
     },
     "execution_count": 8,
     "metadata": {},
     "output_type": "execute_result"
    }
   ],
   "source": [
    "AAT= np.dot(A, A_T)\n",
    "AAT"
   ]
  },
  {
   "cell_type": "code",
   "execution_count": 9,
   "id": "1516e4ae-95fc-4702-a6b3-5520c146dc21",
   "metadata": {},
   "outputs": [
    {
     "name": "stdout",
     "output_type": "stream",
     "text": [
      "3.3772984409097314e-12\n"
     ]
    }
   ],
   "source": [
    "det = np.linalg.det(AAT)\n",
    "print(det)"
   ]
  },
  {
   "cell_type": "markdown",
   "id": "5fdcbd77-d94e-42fd-a9c3-7040372db3bd",
   "metadata": {},
   "source": [
    "** Yes AAT is invertable because the determinant is not equal to zero **"
   ]
  },
  {
   "cell_type": "code",
   "execution_count": 10,
   "id": "d3810f9c-870e-4831-8233-377f11acb0b5",
   "metadata": {},
   "outputs": [
    {
     "name": "stdout",
     "output_type": "stream",
     "text": [
      "[[ 2 -2 -3 -8]\n",
      " [ 2  7 -3  2]\n",
      " [ 3  4 -4  3]]\n"
     ]
    }
   ],
   "source": [
    "A = np.array([[2,2,3],[-2,7,4],[-3,-3,-4],[-8,2,3]])\n",
    "A_T = np.transpose(A)\n",
    "print(A_T)"
   ]
  },
  {
   "cell_type": "code",
   "execution_count": 11,
   "id": "b9db3659-dcf4-4c50-b187-16c1a59bf940",
   "metadata": {},
   "outputs": [
    {
     "name": "stdout",
     "output_type": "stream",
     "text": [
      "[[ 2 -2 -3 -8]\n",
      " [ 2  7 -3  2]\n",
      " [ 3  4 -4  3]] [[ 2  2  3]\n",
      " [-2  7  4]\n",
      " [-3 -3 -4]\n",
      " [-8  2  3]]\n"
     ]
    }
   ],
   "source": [
    "ATA = np.dot(A_T, A)\n",
    "print(A_T,A)"
   ]
  },
  {
   "cell_type": "code",
   "execution_count": 12,
   "id": "e4a65a20-d77f-4209-9515-ad5405fa7966",
   "metadata": {},
   "outputs": [
    {
     "data": {
      "text/plain": [
       "np.float64(45642.00000000001)"
      ]
     },
     "execution_count": 12,
     "metadata": {},
     "output_type": "execute_result"
    }
   ],
   "source": [
    "determinant = np.linalg.det(ATA)\n",
    "determinant"
   ]
  },
  {
   "cell_type": "markdown",
   "id": "1ba58d1c-1c73-4069-8142-38dc89912d1a",
   "metadata": {},
   "source": [
    "#### no.2"
   ]
  },
  {
   "cell_type": "code",
   "execution_count": 13,
   "id": "3ea87422-71ae-46cc-956a-324dcff18301",
   "metadata": {},
   "outputs": [
    {
     "data": {
      "text/plain": [
       "(3, 2)"
      ]
     },
     "execution_count": 13,
     "metadata": {},
     "output_type": "execute_result"
    }
   ],
   "source": [
    "x = np.array([[25, 2], [5, 26], [3, 7]])\n",
    "x.shape"
   ]
  },
  {
   "cell_type": "code",
   "execution_count": 14,
   "id": "67679a29-a6a2-4ae7-bd72-46fd849fd45a",
   "metadata": {},
   "outputs": [
    {
     "data": {
      "text/plain": [
       "array([[25,  5,  3],\n",
       "       [ 2, 26,  7]])"
      ]
     },
     "execution_count": 14,
     "metadata": {},
     "output_type": "execute_result"
    }
   ],
   "source": [
    "x = np.array([[25, 2], [5, 26], [3, 7]])\n",
    "T_x = np.transpose(x)\n",
    "T_x"
   ]
  },
  {
   "cell_type": "code",
   "execution_count": 15,
   "id": "bd2e5c9a-6c37-46a7-81a6-8f7a6e780487",
   "metadata": {},
   "outputs": [
    {
     "name": "stdout",
     "output_type": "stream",
     "text": [
      "[[75  6]\n",
      " [15 78]\n",
      " [ 9 21]]\n"
     ]
    }
   ],
   "source": [
    "x = np.array([[25, 2], [5, 26], [3, 7]])\n",
    "X_S = np.dot(3,x)\n",
    "print(X_S)"
   ]
  },
  {
   "cell_type": "code",
   "execution_count": 21,
   "id": "4468cf0a-8fa4-417b-ae3c-a05b73808260",
   "metadata": {},
   "outputs": [
    {
     "data": {
      "text/plain": [
       "array([[121, 154],\n",
       "       [185, 220]])"
      ]
     },
     "execution_count": 21,
     "metadata": {},
     "output_type": "execute_result"
    }
   ],
   "source": [
    "matrix_A=np.array([[3, 4], [5, 6], [7, 8]])\n",
    "product =np.dot(T_x,matrix_A)\n",
    "product"
   ]
  },
  {
   "cell_type": "code",
   "execution_count": 22,
   "id": "41f53d21-43f3-444d-ace5-0e87a4628e85",
   "metadata": {},
   "outputs": [
    {
     "name": "stdout",
     "output_type": "stream",
     "text": [
      "[[-0.11764706  0.08235294]\n",
      " [ 0.09893048 -0.06470588]]\n"
     ]
    }
   ],
   "source": [
    "inverse = np.linalg.inv(product)\n",
    "print(inverse)"
   ]
  },
  {
   "cell_type": "markdown",
   "id": "6b080351-0ab4-4db8-8966-32a0db4827d4",
   "metadata": {},
   "source": [
    "### No.3"
   ]
  },
  {
   "cell_type": "markdown",
   "id": "7d91fbd2-268b-4e94-bb09-ff84de738e21",
   "metadata": {},
   "source": [
    "#### Part 1)"
   ]
  },
  {
   "cell_type": "code",
   "execution_count": null,
   "id": "282d0731-b81d-454f-85d4-51712c0179cb",
   "metadata": {},
   "outputs": [],
   "source": [
    "E = [25,2,5]\n",
    "x = np.array(E)\n",
    "print(x)"
   ]
  },
  {
   "cell_type": "markdown",
   "id": "55de65a4-308b-4806-a499-47886db9d556",
   "metadata": {},
   "source": [
    "##### Part 2)"
   ]
  },
  {
   "cell_type": "code",
   "execution_count": null,
   "id": "7d07f851-3b98-4962-9713-166dd5e2cb47",
   "metadata": {},
   "outputs": [],
   "source": [
    "shape_E =np.shape(x)\n",
    "shape_E"
   ]
  },
  {
   "cell_type": "markdown",
   "id": "b610436e-65db-495d-88d6-8d4047ba51f4",
   "metadata": {},
   "source": [
    "#### Part3) "
   ]
  },
  {
   "cell_type": "code",
   "execution_count": 17,
   "id": "b054510d-81b9-4c1a-b06f-d696f1e78e58",
   "metadata": {},
   "outputs": [
    {
     "data": {
      "text/plain": [
       "array([[25,  5,  3],\n",
       "       [ 2, 26,  7]])"
      ]
     },
     "execution_count": 17,
     "metadata": {},
     "output_type": "execute_result"
    }
   ],
   "source": [
    "T_E =np.transpose(x)\n",
    "T_E"
   ]
  },
  {
   "cell_type": "markdown",
   "id": "1471f42b-b3f5-4598-a46b-dc5f13e1f256",
   "metadata": {},
   "source": [
    "#### Part 4)"
   ]
  },
  {
   "cell_type": "code",
   "execution_count": 18,
   "id": "03b22bd9-99d6-417c-b407-e7758ff70158",
   "metadata": {},
   "outputs": [
    {
     "data": {
      "text/plain": [
       "np.float64(37.255872020394314)"
      ]
     },
     "execution_count": 18,
     "metadata": {},
     "output_type": "execute_result"
    }
   ],
   "source": [
    "N_E = np.linalg.norm(x)\n",
    "N_E"
   ]
  },
  {
   "cell_type": "code",
   "execution_count": null,
   "id": "2fefa8e2-960f-4861-a563-54047d291639",
   "metadata": {},
   "outputs": [],
   "source": []
  },
  {
   "cell_type": "code",
   "execution_count": null,
   "id": "96557463-34ea-4405-b2e8-2ca1260b3fe1",
   "metadata": {},
   "outputs": [],
   "source": []
  },
  {
   "cell_type": "code",
   "execution_count": null,
   "id": "1df69d70-15ba-4308-8866-4ab76ab7759f",
   "metadata": {},
   "outputs": [],
   "source": []
  },
  {
   "cell_type": "code",
   "execution_count": null,
   "id": "a1c08614-f3b2-4e3a-a17b-4a6b24100e5e",
   "metadata": {},
   "outputs": [],
   "source": []
  }
 ],
 "metadata": {
  "kernelspec": {
   "display_name": "Python 3 (ipykernel)",
   "language": "python",
   "name": "python3"
  },
  "language_info": {
   "codemirror_mode": {
    "name": "ipython",
    "version": 3
   },
   "file_extension": ".py",
   "mimetype": "text/x-python",
   "name": "python",
   "nbconvert_exporter": "python",
   "pygments_lexer": "ipython3",
   "version": "3.12.6"
  }
 },
 "nbformat": 4,
 "nbformat_minor": 5
}
